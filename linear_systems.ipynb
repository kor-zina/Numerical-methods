{
  "nbformat": 4,
  "nbformat_minor": 0,
  "metadata": {
    "colab": {
      "provenance": []
    },
    "kernelspec": {
      "display_name": "Python 2",
      "language": "python",
      "name": "python2"
    }
  },
  "cells": [
    {
      "cell_type": "markdown",
      "metadata": {
        "id": "8ytRrLgn7Dg3"
      },
      "source": [
        "# Numerical methods"
      ]
    },
    {
      "cell_type": "code",
      "metadata": {
        "id": "o3yPZDfQ7A_k"
      },
      "source": [
        "import numpy as np\n",
        "from numpy.linalg import solve, norm, cond, cholesky\n",
        "from functools import partial"
      ],
      "execution_count": null,
      "outputs": []
    },
    {
      "cell_type": "code",
      "metadata": {
        "id": "qUNqBPKP7A_n"
      },
      "source": [
        "def get_relative_error(original_vector, other_vector):\n",
        "    \n",
        "    return norm(original_vector - other_vector, np.inf) / norm(original_vector)\n",
        "\n",
        "\n",
        "def get_absolute_error(original_vector, other_vector):\n",
        "    \n",
        "    return norm(original_vector - other_vector, np.inf)\n"
      ],
      "execution_count": null,
      "outputs": []
    },
    {
      "cell_type": "markdown",
      "metadata": {
        "id": "IwZlnqSW7pHP"
      },
      "source": [
        "## Task 1"
      ]
    },
    {
      "cell_type": "markdown",
      "metadata": {
        "id": "Jk67VMOv7r-N"
      },
      "source": [
        "### Description\n",
        "\n",
        "For given system of equations $Ax = b$ Investigate the dependence of the error $x$ on errors of the right side of the system $b$."
      ]
    },
    {
      "cell_type": "markdown",
      "metadata": {
        "id": "YkHpC-RA8jB-"
      },
      "source": [
        "### Solution"
      ]
    },
    {
      "cell_type": "code",
      "metadata": {
        "id": "ny2iglT47A_q"
      },
      "source": [
        "class Task1:\n",
        "\n",
        "    @staticmethod\n",
        "    def build_matrix():\n",
        "        n = 7\n",
        "        \n",
        "        def get_matrix_element(i, j):\n",
        "            variant = 5\n",
        "            c = 0.1 * variant * i * j\n",
        "            \n",
        "            element = 135 / (2 + 0.3 * c) ** 5\n",
        "            \n",
        "            return element\n",
        "        \n",
        "        def build_matrix_row(row_num):\n",
        "            get_row_element = partial(get_matrix_element, row_num)\n",
        "            \n",
        "            return list(map(get_row_element, range(1, n + 1)))\n",
        "        \n",
        "        return np.array(list(map(build_matrix_row, range(1, n + 1))))\n",
        "    \n",
        "    @staticmethod\n",
        "    def build_result_vector():\n",
        "        return np.array([5.0] * 7)\n",
        "    \n",
        "    @staticmethod\n",
        "    def get_vectors_with_component_delta(result_vector):\n",
        "        delta = 10e-3\n",
        "        \n",
        "        def add_delta_to_position(vector, position):\n",
        "            new_vector = vector.copy()\n",
        "            new_vector[position] += delta\n",
        "            return new_vector\n",
        "        \n",
        "        return np.array(list(map(partial(add_delta_to_position, result_vector), range(len(result_vector)))))\n",
        "    \n"
      ],
      "execution_count": null,
      "outputs": []
    },
    {
      "cell_type": "markdown",
      "metadata": {
        "id": "DKWhNAV5ANes"
      },
      "source": [
        "#### Finding numerical solution"
      ]
    },
    {
      "cell_type": "code",
      "metadata": {
        "id": "ceNPeVCU7A_t"
      },
      "source": [
        "matrix = Task1.build_matrix()\n",
        "result_vector = Task1.build_result_vector()\n"
      ],
      "execution_count": null,
      "outputs": []
    },
    {
      "cell_type": "code",
      "metadata": {
        "id": "-fUbXH_h7A_v",
        "outputId": "7c5ddd35-447f-46d4-e724-baec9fe61922",
        "colab": {
          "base_uri": "https://localhost:8080/",
          "height": 34
        }
      },
      "source": [
        "gauss_solution = solve(matrix, result_vector)\n",
        "print(\"Solution of our equation with Gauss method:\", list(map(lambda x: \"{:.5}\".format(x), gauss_solution)))\n"
      ],
      "execution_count": null,
      "outputs": [
        {
          "output_type": "stream",
          "text": [
            "('Solution of our equation with Gauss method:', ['158.78', '-4313.6', '4.2377e+04', '-1.8833e+05', '4.106e+05', '-4.2745e+05', '1.6943e+05'])\n"
          ],
          "name": "stdout"
        }
      ]
    },
    {
      "cell_type": "markdown",
      "metadata": {
        "id": "xNCn5xat_LNd"
      },
      "source": [
        "Now we compare $b_*$ with $b$, where $Ax_* = b_*$"
      ]
    },
    {
      "cell_type": "code",
      "metadata": {
        "id": "PX5NgZjv7A_z",
        "outputId": "4527653f-6887-41e6-9453-af9de4dde71e",
        "colab": {
          "base_uri": "https://localhost:8080/",
          "height": 34
        }
      },
      "source": [
        "np.allclose(np.dot(matrix, gauss_solution), result_vector)"
      ],
      "execution_count": null,
      "outputs": [
        {
          "output_type": "execute_result",
          "data": {
            "text/plain": [
              "True"
            ]
          },
          "metadata": {
            "tags": []
          },
          "execution_count": 6
        }
      ]
    },
    {
      "cell_type": "markdown",
      "metadata": {
        "id": "ntMFIudU_jD8"
      },
      "source": [
        "$b \\simeq b_*$. Therefore we can say that $x_*$ is correct numerical solution"
      ]
    },
    {
      "cell_type": "markdown",
      "metadata": {
        "id": "vL3lGV5NAToc"
      },
      "source": [
        "#### Finding condition number of $A$"
      ]
    },
    {
      "cell_type": "code",
      "metadata": {
        "id": "Mr7M_i627A_3",
        "outputId": "24cba2d7-d9f6-4a81-d4b9-75850f8ba32a",
        "colab": {
          "base_uri": "https://localhost:8080/",
          "height": 34
        }
      },
      "source": [
        "condition_number = cond(matrix)\n",
        "print(\"Condition number of matrix:\", condition_number)"
      ],
      "execution_count": null,
      "outputs": [
        {
          "output_type": "stream",
          "text": [
            "('Condition number of matrix:', 150414531.0558092)\n"
          ],
          "name": "stdout"
        }
      ]
    },
    {
      "cell_type": "markdown",
      "metadata": {
        "id": "9Jd-0aP_A011"
      },
      "source": [
        "As we can observe matrix $A$ is extremely poorly conditioned"
      ]
    },
    {
      "cell_type": "markdown",
      "metadata": {
        "id": "RoMpoel5AYRU"
      },
      "source": [
        "#### Investigating error dependence"
      ]
    },
    {
      "cell_type": "code",
      "metadata": {
        "id": "8qzHu9B77A_6"
      },
      "source": [
        "vectors_with_delta_components = Task1.get_vectors_with_component_delta(result_vector)\n",
        "solutions_delta = list(map(partial(np.linalg.solve, matrix), vectors_with_delta_components))"
      ],
      "execution_count": null,
      "outputs": []
    },
    {
      "cell_type": "code",
      "metadata": {
        "id": "_mMiEAEt7A_9",
        "outputId": "8eb9c1d0-8b8e-4f43-9763-cdb7a0ed6ef1",
        "colab": {
          "base_uri": "https://localhost:8080/",
          "height": 153
        }
      },
      "source": [
        "relative_errors = list(map(partial(get_relative_error, gauss_solution), solutions_delta))\n",
        "\n",
        "print(\"Relative errors:\")\n",
        "for i, relative_difference in enumerate(relative_errors):\n",
        "    print(\"{}: {:.2e}\".format(i + 1, relative_difference))\n"
      ],
      "execution_count": null,
      "outputs": [
        {
          "output_type": "stream",
          "text": [
            "Relative errors:\n",
            "1: 3.42e-05\n",
            "2: 1.38e-03\n",
            "3: 1.61e-02\n",
            "4: 7.86e-02\n",
            "5: 1.82e-01\n",
            "6: 1.98e-01\n",
            "7: 8.07e-02\n"
          ],
          "name": "stdout"
        }
      ]
    },
    {
      "cell_type": "code",
      "metadata": {
        "id": "NXq3TLAa7BAC",
        "outputId": "f706e05d-16b1-409e-f333-2b76064fe393",
        "colab": {
          "base_uri": "https://localhost:8080/",
          "height": 34
        }
      },
      "source": [
        "print(\"Highest contribution to the error delivers b[{}] with value of relative error = ~{:.5}\"\n",
        "      .format(np.argmax(relative_errors), np.max(relative_errors)))\n"
      ],
      "execution_count": null,
      "outputs": [
        {
          "output_type": "stream",
          "text": [
            "Highest contribution to the error delivers b[5] with value of relative error = ~0.1975\n"
          ],
          "name": "stdout"
        }
      ]
    },
    {
      "cell_type": "code",
      "metadata": {
        "id": "3H9zj3By7BAF",
        "outputId": "72315e45-eb13-4709-f6d3-5357c50df2b3",
        "colab": {
          "base_uri": "https://localhost:8080/",
          "height": 34
        }
      },
      "source": [
        "theoretical_error = condition_number * get_relative_error(result_vector, vectors_with_delta_components[5])\n",
        "\n",
        "print(\"Theoretical error = {:.5}\".format(theoretical_error))"
      ],
      "execution_count": null,
      "outputs": [
        {
          "output_type": "stream",
          "text": [
            "Theoretical error = 1.137e+05\n"
          ],
          "name": "stdout"
        }
      ]
    },
    {
      "cell_type": "code",
      "metadata": {
        "id": "MJLJxQQI7BAI",
        "outputId": "87a167b6-e230-446a-9d06-976080db115b",
        "colab": {
          "base_uri": "https://localhost:8080/",
          "height": 34
        }
      },
      "source": [
        "print(\"Difference between theoretical error and practical error is {} >> 0\".format(theoretical_error - np.max(relative_errors)))\n"
      ],
      "execution_count": null,
      "outputs": [
        {
          "output_type": "stream",
          "text": [
            "Difference between theoretical error and practical error is 113702.500424 >> 0\n"
          ],
          "name": "stdout"
        }
      ]
    },
    {
      "cell_type": "markdown",
      "metadata": {
        "id": "wQs7fWqlAoy-"
      },
      "source": [
        "As be can see from above practical error is much less than theoretical error due to high value of theoretical error.\n",
        "\n",
        "The value of theoretical error directly depends on $cond(A)$ which is extremely high in our case.\n"
      ]
    },
    {
      "cell_type": "markdown",
      "metadata": {
        "id": "nK2ttNud8vPe"
      },
      "source": [
        "## Task 2"
      ]
    },
    {
      "cell_type": "markdown",
      "metadata": {
        "id": "a9peS7xI8xxt"
      },
      "source": [
        "### Description\n",
        "\n",
        "Solve given system of equations $Ax = b$ with symmetric positive definite matrix $A$ with Cholesky method"
      ]
    },
    {
      "cell_type": "markdown",
      "metadata": {
        "id": "DUnwAjqY9PQt"
      },
      "source": [
        "### Solution"
      ]
    },
    {
      "cell_type": "code",
      "metadata": {
        "id": "B6yqxvVm7BAL"
      },
      "source": [
        "class Task2:\n",
        "    \n",
        "    matrix_size = 20\n",
        "    \n",
        "    @staticmethod\n",
        "    def build_matrix():\n",
        "        n = float(Task2.matrix_size)\n",
        "        m = 8.0\n",
        "        \n",
        "        def get_matrix_element(i, j):\n",
        "            if i == j:\n",
        "                return n + m ** 2 + j / m + i / n\n",
        "            else:\n",
        "                return (i + j) / (m + n)\n",
        "            \n",
        "        def build_matrix_row(row_num):\n",
        "            get_row_element = partial(get_matrix_element, row_num)\n",
        "            \n",
        "            return list(map(get_row_element, range(1, Task2.matrix_size + 1)))\n",
        "        \n",
        "        return np.array(list(map(build_matrix_row, range(1, Task2.matrix_size + 1))))\n",
        "    \n",
        "    @staticmethod\n",
        "    def build_result_vector():\n",
        "        \n",
        "        return np.array(list(map(lambda i: 200 + 50 * i, range(1, Task2.matrix_size + 1))))\n",
        "    \n",
        "    "
      ],
      "execution_count": null,
      "outputs": []
    },
    {
      "cell_type": "code",
      "metadata": {
        "id": "Et2HyjTm7BAO"
      },
      "source": [
        "matrix = Task2.build_matrix()\n",
        "result_vector = Task2.build_result_vector()\n"
      ],
      "execution_count": null,
      "outputs": []
    },
    {
      "cell_type": "markdown",
      "metadata": {
        "id": "dO0ocoxnEMs1"
      },
      "source": [
        "Get matrix $L$ from Cholesky decomposition $LL^T = A$"
      ]
    },
    {
      "cell_type": "code",
      "metadata": {
        "id": "cTXfTrUU7BAR"
      },
      "source": [
        "decomposition_lower = cholesky(matrix)\n"
      ],
      "execution_count": null,
      "outputs": []
    },
    {
      "cell_type": "markdown",
      "metadata": {
        "id": "lkgMF0Z1CkEE"
      },
      "source": [
        "Find $y$ from $Ly = b$"
      ]
    },
    {
      "cell_type": "code",
      "metadata": {
        "id": "-mscbuXK7BAV"
      },
      "source": [
        "cholesky_solution = solve(decomposition_lower, result_vector)"
      ],
      "execution_count": null,
      "outputs": []
    },
    {
      "cell_type": "markdown",
      "metadata": {
        "id": "4hnej5U6CwIF"
      },
      "source": [
        "Find $x_*$ from $L^T x_* = y$"
      ]
    },
    {
      "cell_type": "code",
      "metadata": {
        "id": "6mYbwdxy7BAX",
        "outputId": "7d6dac82-5131-4d91-ab59-ff42ca1a0cfd",
        "colab": {
          "base_uri": "https://localhost:8080/",
          "height": 34
        }
      },
      "source": [
        "solution = solve(decomposition_lower.transpose(), cholesky_solution)\n",
        "\n",
        "print(\"Our solution:\", list(map(lambda x: \"{:.5}\".format(x), solution)))"
      ],
      "execution_count": null,
      "outputs": [
        {
          "output_type": "stream",
          "text": [
            "('Our solution:', ['2.1322', '2.6631', '3.1927', '3.721', '4.248', '4.7737', '5.2981', '5.8213', '6.3431', '6.8637', '7.3831', '7.9012', '8.418', '8.9335', '9.4478', '9.9609', '10.473', '10.983', '11.493', '12.001'])\n"
          ],
          "name": "stdout"
        }
      ]
    },
    {
      "cell_type": "markdown",
      "metadata": {
        "id": "l-ng2NhlDbUE"
      },
      "source": [
        "Now we compare $b_*$ with $b$, where $Ax_* = b_*$"
      ]
    },
    {
      "cell_type": "code",
      "metadata": {
        "id": "y-VlMFad7BAa",
        "outputId": "06068f54-0132-43ea-987e-ac2990c5ea3e",
        "colab": {
          "base_uri": "https://localhost:8080/",
          "height": 34
        }
      },
      "source": [
        "np.allclose(np.dot(matrix, solution), result_vector)"
      ],
      "execution_count": null,
      "outputs": [
        {
          "output_type": "execute_result",
          "data": {
            "text/plain": [
              "True"
            ]
          },
          "metadata": {
            "tags": []
          },
          "execution_count": 18
        }
      ]
    },
    {
      "cell_type": "markdown",
      "metadata": {
        "id": "GQushut8Dga1"
      },
      "source": [
        "$b \\simeq b_*$. Therefore we can say that $x_*$ is correct numerical solution"
      ]
    },
    {
      "cell_type": "markdown",
      "metadata": {
        "id": "daF--N699SYV"
      },
      "source": [
        "## Task 3"
      ]
    },
    {
      "cell_type": "markdown",
      "metadata": {
        "id": "dfZK5lzu9VMt"
      },
      "source": [
        "### Description\n",
        "\n",
        "For given system of equations $Ax = b$, where $A = A(t)$, investigate the dependence of the solution of $Ax = b$ on the computational error for given values of the parameter t."
      ]
    },
    {
      "cell_type": "markdown",
      "metadata": {
        "id": "zSq2SNof9-MY"
      },
      "source": [
        "### Solution"
      ]
    },
    {
      "cell_type": "code",
      "metadata": {
        "id": "Lff_b3cq7BAd"
      },
      "source": [
        "class Task3:\n",
        "    matrix_size = 50\n",
        "\n",
        "    _m = 1\n",
        "    _q_m = 0.993 + (-1) ** _m * _m * 1e-4\n",
        "\n",
        "    @staticmethod\n",
        "    def build_matrix(t):\n",
        "\n",
        "        def get_matrix_element(i, j):\n",
        "            if i == j:\n",
        "                return Task3._q_m ** j + t\n",
        "            else:\n",
        "                return Task3._q_m ** j\n",
        "\n",
        "        def build_matrix_row(row_num):\n",
        "            get_row_element = partial(get_matrix_element, row_num)\n",
        "\n",
        "            return list(map(get_row_element, range(1, Task3.matrix_size + 1)))\n",
        "\n",
        "        return np.array(list(map(build_matrix_row, range(1, Task3.matrix_size + 1))))\n",
        "\n",
        "    @staticmethod\n",
        "    def build_result_vector():\n",
        "\n",
        "        return np.array(list(map(lambda j: Task3._q_m ** (Task3.matrix_size + 1 - j), range(1, Task3.matrix_size + 1))))\n",
        "\n",
        "    @staticmethod\n",
        "    def solve_gauss_partial_selection(matrix, result_row):\n",
        "\n",
        "        def replace(iter, place, new_element):\n",
        "            new_iter = iter.copy()\n",
        "            new_iter[place] = new_element\n",
        "            return new_iter\n",
        "\n",
        "        def eliminate(matrix, result_row):\n",
        "\n",
        "            def get_max_value_row_id(_matrix, step_index):\n",
        "                column = _matrix[step_index:, step_index]\n",
        "                max_index = np.argmax(column) + step_index\n",
        "                return max_index\n",
        "\n",
        "            def eliminate_after_row(matrix, result_row, i, j):\n",
        "\n",
        "                if i == len(matrix):\n",
        "                    return matrix, result_row\n",
        "\n",
        "                current_row = matrix[i]\n",
        "                next_row = matrix[j]\n",
        "\n",
        "                k = next_row[i] / current_row[i]\n",
        "                updated_matrix_row = next_row - k * current_row\n",
        "\n",
        "                updated_result_row_element = result_row[j] - k * result_row[i]\n",
        "\n",
        "                new_matrix = replace(matrix, j, updated_matrix_row)\n",
        "                new_result_row = replace(result_row, j, updated_result_row_element)\n",
        "\n",
        "                if j == len(matrix) - 1:\n",
        "                    return new_matrix, new_result_row\n",
        "                else:\n",
        "                    return eliminate_after_row(new_matrix, new_result_row, i, j + 1)\n",
        "\n",
        "            new_matrix = matrix.copy()\n",
        "            new_result_row = result_row.copy()\n",
        "            for i in range(len(matrix) - 1):\n",
        "                max_value_row_id = get_max_value_row_id(new_matrix, i)\n",
        "                new_matrix[[i, max_value_row_id]] = new_matrix[[max_value_row_id, i]]\n",
        "                new_result_row[i], new_result_row[max_value_row_id] = new_result_row[max_value_row_id], new_result_row[\n",
        "                    i]\n",
        "                new_matrix, new_result_row = eliminate_after_row(new_matrix, new_result_row, i, i + 1)\n",
        "\n",
        "            return new_matrix, new_result_row\n",
        "\n",
        "        def back_substitute(matrix, result_row):\n",
        "\n",
        "            def back_substitute_step(matrix, result_row, solution, i):\n",
        "                if i < 0:\n",
        "                    return solution\n",
        "\n",
        "                new_solution = replace(solution, i, (result_row[i] - sum(matrix[i] * solution)) / matrix[i][i])\n",
        "                return back_substitute_step(matrix, result_row, new_solution, i - 1)\n",
        "\n",
        "            return back_substitute_step(matrix, result_row, np.zeros(len(result_row)), len(result_row) - 1)\n",
        "\n",
        "        return back_substitute(*eliminate(matrix, result_row))"
      ],
      "execution_count": null,
      "outputs": []
    },
    {
      "cell_type": "code",
      "metadata": {
        "id": "k8vJvdww7BAf"
      },
      "source": [
        "t1 = 1e-4\n",
        "t2 = 1\n",
        "t3 = 1e4"
      ],
      "execution_count": null,
      "outputs": []
    },
    {
      "cell_type": "code",
      "metadata": {
        "id": "_iEbfoDR7BAv"
      },
      "source": [
        "def get_solution_errors(t):\n",
        "    matrix = Task3.build_matrix(t)\n",
        "    result_vector = Task3.build_result_vector()\n",
        "    \n",
        "    solution = Task3.solve_gauss_partial_selection(matrix, result_vector)\n",
        "    \n",
        "    around_matrix = np.around(matrix, 6)\n",
        "    around_result_vector = np.around(result_vector, 6)\n",
        "    \n",
        "    around_solution = Task3.solve_gauss_partial_selection(around_matrix, around_result_vector)\n",
        "    \n",
        "    return get_absolute_error(solution, around_solution), get_relative_error(solution, around_solution)\n",
        "\n"
      ],
      "execution_count": null,
      "outputs": []
    },
    {
      "cell_type": "code",
      "metadata": {
        "id": "tHNnLqM77BAx"
      },
      "source": [
        "errors = list(map(get_solution_errors, [t1, t2, t3]))"
      ],
      "execution_count": null,
      "outputs": []
    },
    {
      "cell_type": "code",
      "metadata": {
        "id": "G2D2bhhi7BAy",
        "outputId": "e735179f-f4d1-41e8-bf16-36165e1775f0",
        "colab": {
          "base_uri": "https://localhost:8080/",
          "height": 287
        }
      },
      "source": [
        "from pylab import *\n",
        "from operator import itemgetter\n",
        "\n",
        "%matplotlib inline\n",
        "\n",
        "plot([t1, t2, t3], list(map(itemgetter(0), errors)), 'ro-')\n",
        "\n",
        "xlabel(\"$t_i$\")\n",
        "ylabel(\"Absolute error\")\n",
        "xscale('log')"
      ],
      "execution_count": null,
      "outputs": [
        {
          "output_type": "display_data",
          "data": {
            "image/png": "[encoded data removed]",
            "text/plain": [
              "<Figure size 432x288 with 1 Axes>"
            ]
          },
          "metadata": {
            "tags": []
          }
        }
      ]
    },
    {
      "cell_type": "markdown",
      "metadata": {
        "id": "ZlIg3DB9Fqlm"
      },
      "source": [
        "As we can observe absolute error of rounded soultion is much more higher when $t$ has small value.\n",
        "\n",
        "Exploration:  elements of $A$ grow lineary with growth of $t$. When $t$ is big enogh precision loss due to $around$ operation becomes insufficient.\n",
        "\n"
      ]
    },
    {
      "cell_type": "code",
      "metadata": {
        "id": "DnbSsU3b7BA1",
        "outputId": "96b1c2fc-a49e-4417-b51c-e68c15e3ad6d",
        "colab": {
          "base_uri": "https://localhost:8080/",
          "height": 298
        }
      },
      "source": [
        "plot([t1, t2, t3], list(map(itemgetter(1), errors)), 'ro-')\n",
        "\n",
        "xlabel(\"$t_i$\")\n",
        "ylabel(\"Relative error\")\n",
        "xscale('log')"
      ],
      "execution_count": null,
      "outputs": [
        {
          "output_type": "display_data",
          "data": {
            "image/png": "[encoded data removed]",
            "text/plain": [
              "<Figure size 432x288 with 1 Axes>"
            ]
          },
          "metadata": {
            "tags": []
          }
        }
      ]
    },
    {
      "cell_type": "markdown",
      "metadata": {
        "id": "O67XCT43PJrG"
      },
      "source": [
        "As we can observe, relative error lesses with growth of $t$. However, relative error remains small enogh.\n",
        "\n",
        "Exploration: $relative\\ error = \\frac{absolute\\ error}  {\\parallel X \\parallel}$ \n",
        "\n",
        "With growth of $t$ absolute error lessen and $\\parallel X \\parallel$ growth which leads to a strong fall of relative error"
      ]
    }
  ]
}